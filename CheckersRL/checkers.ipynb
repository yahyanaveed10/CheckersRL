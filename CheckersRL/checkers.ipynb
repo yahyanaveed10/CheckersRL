{
 "cells": [
  {
   "cell_type": "code",
   "execution_count": 1,
   "id": "initial_id",
   "metadata": {
    "collapsed": true,
    "ExecuteTime": {
     "end_time": "2023-11-29T02:38:01.321038Z",
     "start_time": "2023-11-29T02:38:01.157498Z"
    }
   },
   "outputs": [],
   "source": [
    "import numpy as np"
   ]
  },
  {
   "cell_type": "code",
   "execution_count": 32,
   "outputs": [],
   "source": [
    "\n",
    "import numpy as np\n",
    "\n",
    "\n",
    "\n",
    "\n",
    "class checkers_env:\n",
    "\n",
    "    def __init__(self, board, player):\n",
    "\n",
    "        self.board = board\n",
    "        self.player = player\n",
    "\n",
    "    def reset(self):\n",
    "        self.board = [[ 1,0,1,0,1,0],\n",
    "                      [ 0,1,0,1,0,1],\n",
    "                      [ 0,0,0,0,0,0],\n",
    "                      [ 0,0,0,0,0,0],\n",
    "                      [ 0,-1,0,-1,0,-1],\n",
    "                      [-1,0,-1,0,-1,0]]\n",
    "        self.player = 1\n",
    "\n",
    "    def possible_pieces(self, player):\n",
    "        positions = []\n",
    "        for i, row in enumerate(self.board):\n",
    "            for j, value in enumerate(row):\n",
    "                if value == player:\n",
    "                    positions.append([i,j])\n",
    "        return positions\n",
    "\n",
    "    def possible_actions(self, player):\n",
    "        def is_valid_position(x, y):\n",
    "            return 0 <= x < 6 and 0 <= y < 6\n",
    "        actions = []\n",
    "        starters = self.possible_pieces(player)\n",
    "        directions = [(1, -1), (1, 1)] if player == 1 else [(-1, -1), (-1, 1)]\n",
    "        for x,y in starters:\n",
    "            for dx, dy in directions:\n",
    "                nx, ny = x+dx, y+dy\n",
    "                if is_valid_position(nx, ny):\n",
    "                    if self.board[nx][ny] == 0:\n",
    "                    # one-step\n",
    "                        actions.append([x,y,nx,ny])\n",
    "                    elif self.board[nx][ny] == -player:\n",
    "                    # one jump\n",
    "                        jx, jy = x+2*dx, y+x*dy\n",
    "                        if is_valid_position(jx, jy):\n",
    "                            if self.board[jx][jy] == 0:\n",
    "                                actions.append([x,y,jx,jy])\n",
    "        return actions\n",
    "\n",
    "\n",
    "    def get_piece(self, action):\n",
    "        if action[2] - action [0] > 1:\n",
    "            # jump\n",
    "            self.board[(action[0]+action[2])/2][(action[1]+action[3])/2] = 0\n",
    "\n",
    "    def game_winner(self):\n",
    "        if np.sum(self.board<0) == 0:\n",
    "            return 1\n",
    "        elif np.sum(self.board>0) == 0:\n",
    "            return -1\n",
    "        elif len(self.possible_actions(-1)) == 0:\n",
    "            return -1\n",
    "        elif len(self.possible_actions(1)) == 0:\n",
    "            return 1\n",
    "        else:\n",
    "            return 0\n",
    "\n",
    "    def step(self, action, player):\n",
    "        row1, co1, row2, co2 = action\n",
    "        if action in self.possible_actions(player):\n",
    "            self.board[row1][co1] = 0\n",
    "            self.board[row2][co2] = player\n",
    "            self.get_piece(action)\n",
    "            if self.game_winner() == player:\n",
    "                reward = 1\n",
    "            else:\n",
    "                reward = 0\n",
    "        else:\n",
    "            reward = 0\n",
    "\n",
    "        return reward\n",
    "\n",
    "    def render(self):\n",
    "        for row in self.board:\n",
    "            for square in row:\n",
    "                if square == 1:\n",
    "                    piece = \"|0\"\n",
    "                elif square == -1:\n",
    "                    piece = \"|X\"\n",
    "                else:\n",
    "                    piece = \"| \"\n",
    "                print(piece, end='')\n",
    "            print(\"|\")"
   ],
   "metadata": {
    "collapsed": false,
    "ExecuteTime": {
     "end_time": "2023-11-29T02:49:28.638151Z",
     "start_time": "2023-11-29T02:49:28.565153Z"
    }
   },
   "id": "d8c6cad5687fb943"
  },
  {
   "cell_type": "code",
   "execution_count": 33,
   "outputs": [],
   "source": [
    "def initialize_board():\n",
    "    # 1 and -1 represent the pieces of two players 1 and -1\n",
    "    board = np.zeros((6, 6))\n",
    "    for i in range(2):\n",
    "        for j in range(0, 6, 2):\n",
    "            board[i][j + (i % 2)] = 1\n",
    "            board[6 - i - 1][j + (i % 2)] = -1\n",
    "    return board"
   ],
   "metadata": {
    "collapsed": false,
    "ExecuteTime": {
     "end_time": "2023-11-29T02:49:32.531842Z",
     "start_time": "2023-11-29T02:49:32.023350Z"
    }
   },
   "id": "20ff1aae1fdc6657"
  },
  {
   "cell_type": "code",
   "execution_count": 34,
   "outputs": [],
   "source": [
    "env = checkers_env(initialize_board(), 1)"
   ],
   "metadata": {
    "collapsed": false,
    "ExecuteTime": {
     "end_time": "2023-11-29T02:49:33.391436Z",
     "start_time": "2023-11-29T02:49:33.318609Z"
    }
   },
   "id": "d875168f9bdf5c6"
  },
  {
   "cell_type": "code",
   "execution_count": 59,
   "outputs": [
    {
     "data": {
      "text/plain": "array([[ 1.,  0.,  1.,  0.,  1.,  0.],\n       [ 0.,  1.,  0.,  1.,  0.,  1.],\n       [ 0.,  0.,  0.,  0.,  0.,  0.],\n       [ 0.,  0.,  0.,  0.,  0.,  0.],\n       [ 0., -1.,  0., -1.,  0., -1.],\n       [-1.,  0., -1.,  0., -1.,  0.]])"
     },
     "execution_count": 59,
     "metadata": {},
     "output_type": "execute_result"
    }
   ],
   "source": [
    "env.board"
   ],
   "metadata": {
    "collapsed": false,
    "ExecuteTime": {
     "end_time": "2023-11-29T02:36:58.533256Z",
     "start_time": "2023-11-29T02:36:58.116566Z"
    }
   },
   "id": "77064d3104e2cfc8"
  },
  {
   "cell_type": "code",
   "execution_count": 29,
   "outputs": [],
   "source": [
    "starters = env.possible_pieces(1)\n"
   ],
   "metadata": {
    "collapsed": false,
    "ExecuteTime": {
     "end_time": "2023-11-29T02:46:39.950242Z",
     "start_time": "2023-11-29T02:46:39.806065Z"
    }
   },
   "id": "67df42b022927da8"
  },
  {
   "cell_type": "code",
   "execution_count": 30,
   "outputs": [
    {
     "data": {
      "text/plain": "[[0, 0], [0, 2], [0, 4], [1, 1], [1, 3], [1, 5]]"
     },
     "execution_count": 30,
     "metadata": {},
     "output_type": "execute_result"
    }
   ],
   "source": [
    "starters"
   ],
   "metadata": {
    "collapsed": false,
    "ExecuteTime": {
     "end_time": "2023-11-29T02:46:46.649018Z",
     "start_time": "2023-11-29T02:46:46.609433Z"
    }
   },
   "id": "a7c1a6e497b51a62"
  },
  {
   "cell_type": "code",
   "execution_count": 28,
   "outputs": [
    {
     "data": {
      "text/plain": "[[1, 1, 2, 0], [1, 1, 2, 2], [1, 3, 2, 2], [1, 3, 2, 4], [1, 5, 2, 4]]"
     },
     "execution_count": 28,
     "metadata": {},
     "output_type": "execute_result"
    }
   ],
   "source": [
    "env.possible_actions(player = 1)"
   ],
   "metadata": {
    "collapsed": false,
    "ExecuteTime": {
     "end_time": "2023-11-29T02:45:46.350878Z",
     "start_time": "2023-11-29T02:45:46.279481Z"
    }
   },
   "id": "b7be7a1564120e46"
  },
  {
   "cell_type": "code",
   "execution_count": null,
   "outputs": [],
   "source": [],
   "metadata": {
    "collapsed": false
   },
   "id": "a9361474798f3a1a"
  }
 ],
 "metadata": {
  "kernelspec": {
   "display_name": "Python 3",
   "language": "python",
   "name": "python3"
  },
  "language_info": {
   "codemirror_mode": {
    "name": "ipython",
    "version": 2
   },
   "file_extension": ".py",
   "mimetype": "text/x-python",
   "name": "python",
   "nbconvert_exporter": "python",
   "pygments_lexer": "ipython2",
   "version": "2.7.6"
  }
 },
 "nbformat": 4,
 "nbformat_minor": 5
}
